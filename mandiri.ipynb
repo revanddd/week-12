{
 "cells": [
  {
   "cell_type": "code",
   "execution_count": 1,
   "metadata": {},
   "outputs": [
    {
     "name": "stdout",
     "output_type": "stream",
     "text": [
      "True\n"
     ]
    }
   ],
   "source": [
    "tA = (90, 90, 90, 90)\n",
    "print(len(set(tA)) == 1) "
   ]
  },
  {
   "cell_type": "code",
   "execution_count": 2,
   "metadata": {},
   "outputs": [
    {
     "name": "stdout",
     "output_type": "stream",
     "text": [
      "Data: ('Revandra Talenta', '71231041', 'Yogyakarta Indonesia')\n",
      "NIM : 71231041\n",
      "NAMA : Revandra Talenta\n",
      "ALAMAT : Yogyakarta Indonesia\n",
      "NIM: ('7', '1', '2', '3', '1', '0', '4', '1')\n",
      "NAMA DEPAN: ('R', 'e', 'v', 'a', 'n', 'd', 'r', 'a')\n",
      "NAMA TERBALIK: ('Talenta', 'Revandra')\n"
     ]
    }
   ],
   "source": [
    "data_diri = ('Revandra Talenta', '71231041', 'Yogyakarta Indonesia')\n",
    "\n",
    "nama, nim, alamat = data_diri\n",
    "\n",
    "nim_tuple = tuple(nim)\n",
    "nama_depan_tuple = tuple(nama.split()[0])\n",
    "nama_terbalik_tuple = tuple(nama.split()[::-1])\n",
    "\n",
    "print(\"Data:\", data_diri)\n",
    "print(\"NIM :\", nim)\n",
    "print(\"NAMA :\", nama)\n",
    "print(\"ALAMAT :\", alamat)\n",
    "print(\"NIM:\", nim_tuple)\n",
    "print(\"NAMA DEPAN:\", nama_depan_tuple)\n",
    "print(\"NAMA TERBALIK:\", nama_terbalik_tuple)"
   ]
  },
  {
   "cell_type": "code",
   "execution_count": 3,
   "metadata": {},
   "outputs": [
    {
     "name": "stdout",
     "output_type": "stream",
     "text": [
      "04 3\n",
      "06 1\n",
      "07 1\n",
      "09 2\n",
      "10 3\n",
      "11 6\n",
      "14 1\n",
      "15 2\n",
      "16 4\n",
      "17 2\n",
      "18 1\n",
      "19 1\n"
     ]
    }
   ],
   "source": [
    "file_name = input(\"Enter a file name: \")\n",
    "\n",
    "with open(file_name, 'r') as file:\n",
    "        lines = file.readlines()\n",
    "\n",
    "distribusi_jam = {}\n",
    "    \n",
    "for line in lines:\n",
    "    if line.startswith('From '):\n",
    "        parts = line.split()\n",
    "        time_part = parts[5]\n",
    "        hour = time_part.split(':')[0]\n",
    "        distribusi_jam[hour] = distribusi_jam.get(hour, 0) + 1\n",
    "\n",
    "for jam in sorted(distribusi_jam.keys()):\n",
    "    print(jam, distribusi_jam[jam])"
   ]
  }
 ],
 "metadata": {
  "kernelspec": {
   "display_name": "Python 3",
   "language": "python",
   "name": "python3"
  },
  "language_info": {
   "codemirror_mode": {
    "name": "ipython",
    "version": 3
   },
   "file_extension": ".py",
   "mimetype": "text/x-python",
   "name": "python",
   "nbconvert_exporter": "python",
   "pygments_lexer": "ipython3",
   "version": "3.12.0"
  }
 },
 "nbformat": 4,
 "nbformat_minor": 2
}
